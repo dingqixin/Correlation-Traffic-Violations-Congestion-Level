{
 "cells": [
  {
   "cell_type": "markdown",
   "metadata": {},
   "source": [
    "# COGS 108 - Assignment 4: Project Proposal"
   ]
  },
  {
   "cell_type": "markdown",
   "metadata": {},
   "source": [
    "## Important\n",
    "\n",
    "- Make sure all group member (3-5 people) are listed in the group members section.\n",
    "- ONE, and only one, member of your group should upload this notebook to TritonED. \n",
    "- Each member of the group will receive the same grade on this assignment. \n",
    "- Keep the file name the same: submit the file 'A4_ProjectProposal.ipynb'"
   ]
  },
  {
   "cell_type": "markdown",
   "metadata": {},
   "source": [
    "## Overview"
   ]
  },
  {
   "cell_type": "markdown",
   "metadata": {},
   "source": [
    "Read the project description, and detailed instructions for this assignment, in the 'A4_ProjectOutlineAndProposal' pdf."
   ]
  },
  {
   "cell_type": "markdown",
   "metadata": {},
   "source": [
    "## Group Members: Fill in the Student ID's of each group member here\n",
    "- A13759893 Arun Sugumar\n",
    "- A13645764 Zichao Wu\n",
    "- A91068067 Xiaoxin Xu\n",
    "- A91115090 Qixin Ding\n",
    "- U07573172 Lijiu Liang"
   ]
  },
  {
   "cell_type": "markdown",
   "metadata": {},
   "source": [
    "### Research Question\n",
    "\n",
    "What is your research question? (1-2 sentences)"
   ]
  },
  {
   "cell_type": "markdown",
   "metadata": {},
   "source": [
    "In a given Chicago neighborhood, what is the relationship between traffic volume and the number of violations caught by red light camera or speed camera?"
   ]
  },
  {
   "cell_type": "markdown",
   "metadata": {},
   "source": [
    "### Hypothesis\n",
    "\n",
    "What is your prediction (2-3 sentences)"
   ]
  },
  {
   "cell_type": "markdown",
   "metadata": {},
   "source": [
    "We predict that in a given street, higher traffic volume leads to more red light violations. However, speeding violations will decrease."
   ]
  },
  {
   "cell_type": "markdown",
   "metadata": {},
   "source": [
    "### Dataset(s)\n",
    "\n",
    "What data will you use to answer your question? Describe the dataset in terms of number of observations, what kind of features it contains, etc. You must use at least one dataset containing at least approximately 1000 observations (if your data are smaller but you feel they are sufficient, email Prof. Voytek). You are welcome (and in fact recommended) to find multiple datasets! If you do so, describe each one, and briefly explain how you will combine them together. "
   ]
  },
  {
   "cell_type": "markdown",
   "metadata": {},
   "source": [
    "*Fill in your dataset information here*\n",
    "\n",
    "1-2 sentences describing the dataset. \n",
    "- Dataset Name: Average Daily traffic counts\n",
    "- Link: https://data.cityofchicago.org/Transportation/Average-Daily-Traffic-Counts/pfsx-4n4m\n",
    "- Number of observations: 1279\n",
    "- Description: This data set contains information on the number of cars on a street as well and longitude and latitude and the data of the observation.\n",
    "\n",
    "- Red Light Camera Violations\n",
    "- Link: https://data.cityofchicago.org/Transportation/Red-Light-Camera-Violations/spqx-js37\n",
    "- Number of observations: 280000\n",
    "- Description: Contains the number red lights run for each red light camera on each day. Includes camera location iin longitude and latitude. \n",
    "\n",
    "- Speed Camera Violations\n",
    "- Link:https://data.cityofchicago.org/Transportation/Speed-Camera-Violations/hhkd-xvj4\n",
    "- Number of observations: 108000\n",
    "- Description: Contains the number of speeders for each speed camera on each day. Includes camera location in longitude and latitude. \n",
    "\n",
    "\n",
    "If you plan to use multiple datasets, add 1-2 sentences about how you plan to combine these datasets.\n",
    "\n",
    "We want to integrate the three datasets into a large table where each entry in the table is an observation of traffic violation. To do this we will append rows in the speed camera data to the rows in the red light camera data, and then add a column with the traffic volume for the location and time of each violation. "
   ]
  },
  {
   "cell_type": "markdown",
   "metadata": {},
   "source": [
    "### Background & Prior Work\n",
    "\n",
    "Why is this question of interest, what background information led you to your hypothesis, and why is this important?\n",
    "\n",
    "Find some relevant prior work, and reference them. Even if you think you have a totally novel question, find the most similar prior work you can, and discuss how it relates to your project. \n",
    "\n",
    "References can be research publications, but they need not be: blogs, github repositories, company websites, etc., are viable references if they are relevant to your project.\n",
    "\n",
    "(2-3 paragraphs, including at least 2 references)"
   ]
  },
  {
   "cell_type": "markdown",
   "metadata": {},
   "source": [
    "*Fill in your background and prior work here* \n",
    "\n",
    "    In a large city such as Chicago traffic is an important issue in daily life. Speeding and running red lights can result in serious injuries and deaths. By studying what conditions cause people to speed and run red lights people can learn when to drive more carefully and avoid accidents. We arrived at our hypothesis from personal driving experience, seeing that when in traffic, very few people speed. People do tend to rush to make red lights as they want to get out traffic. This is important because it is based on our own observations and our thought process for what we think we would do if we were driving in Chicago. If it turns out we are incorrect then it shows that there is a in error in our observations while driving and conventional wisdom does not apply. Other people may be making similar assumptions and this would increase the danger of accidents. Also since the hypothesis does not come from previous studies to it has a lower certainty of being correct.\n",
    "    For prior work we have two references. The article, from University of Maryland, “The Relationship Between Congestion Levels and Accidents”, holds a theme similar to our idea, which is to improve the roadway safety. More specifically, it intends to better understand the relationship between congestion levels and the frequency, rate and severity of accidents on freeways. While the article focuses on congestion, we talk about traffic volume, which are similar concepts. We also are focused on speeding and red light running rather than accidents, which are related but not directly the same thing. However, we can still apply the relationship between congestion and accidents to our research with into the relationship between traffic volume and violations. This study found that the number of accidents decreased on arterials but increased on highways. Since we are investigating city roads we should get results similar to their results on what they found on arterials and the number of violations should decrease. This matches our hypothesis for speeding but not for red light violations.\n",
    "    The other article, from Chao Wang, “Impact of traffic congestion on road accidents: A spatial analysis of the M25 motorway in England”, also discusses two important externalities created by road users in England, traffic congestion and road accidents. The interesting point for this research is that the result suggests that traffic congestion has little or no impact on the frequency of road accidents. This does not agree with our hypothesis at all which is interesting. It might not be relevant because english drivers have different rules  and running red lights and speeding happen much more often than, and are not directly correlated with accidents, but it does hint that our reasoning might be wrong.\n",
    "\n",
    "References (include a link):\n",
    "- 1)http://roads.maryland.gov/OPR_Research/MD-03-SP308B46-Congestion-Vs-Accidents-Report.pdf\n",
    "University of Maryland, College Park\n",
    "“The Relationship Between Congestion Levels and Accidents”\n",
    "\n",
    "- 2)http://www.sciencedirect.com/science/article/pii/S0001457509000797\n",
    "Impact of traffic congestion on road accidents: A spatial analysis of the M25 motorway in England"
   ]
  },
  {
   "cell_type": "markdown",
   "metadata": {},
   "source": [
    "### Proposed Methods\n",
    "\n",
    "What methods will you use to analyze your data?\n",
    "\n",
    "- How 'clean' is the data? To the extent that it requires cleaning, how will you do so?\n",
    "- How will you analyze the data? Be as specific as you can. Briefly mention any pre-processing steps that are required for your methods (for example, checking data distributions and performing any transformations that may be required). Include a brief outline of how you will apply your chosen method(s). \n",
    "- What do you plan to report? Briefly mention any key visualizations you plan to create, and/or the kind of result you will be able to report that addresses your question (this could be, for example, the outcome of some statistical test(s), prediction error on a model, a model fit parameter, etc.).\n",
    "- Include a list of packages you expect to use for you project. If you plan to use packages we have not used in class, add a very brief description about them (a few words is sufficient). "
   ]
  },
  {
   "cell_type": "markdown",
   "metadata": {},
   "source": [
    "*Fill in your proposed methods information here:*\n",
    "\n",
    "*Data Cleaning (2-3 sentences)*\n",
    "    \n",
    "    Since the data is from a government portal it is well formatted. A little peek into the dataset reveals that the average daily traffic data contains no rows of invalid data, while the red light camera data and speeding camera data contains has rows missing the longitude and latitude data and camera id.\n",
    "    We will need to remove all rows containing nan and na in our datasets and get rid of outliers and recording errors. For example time period other than 0:00- 24:00, locations which cannot be found in Chicago(recording errors), and other invalid data. Some of our datasets contain specific street names and some have zip code/area code, we need to combine everything into one table with violations and traffic volume by merging on dates and a single type of location. We will most likely use longitude and latitude information which is present in all sets. Then we can remove any extraneous columns.\n",
    "\n",
    "*Data Analysis (1-2 paragraphs)*\n",
    "\n",
    "    First we will look at Average Daily Traffic Counts data to investigate the relationship between total passing vehicle volume and time periods(with respect to different days, months and years). We can visualize the relationships by line charts. Y-coordinate is total passing vehicle volume, and X-coordinate would be time (days, months and years). Then, look at the relationship between total passing vehicle volume and locations. We hope to do this by construction a heat map of traffic overlaid on chicago streets. Next, consider Red Light Camera Violation and Speed Camera Violation datasets. First display a map of where the cameras are located. Then get how many violations were recorded from each camera, and do visualization by a heat map laid out over the city of where violations are most common. As before we will also need to check how the number of violations changes over time. We will need to have a line graph of that over the day months and years. Doing all this will give us sense of the data and help us check that it is properly cleaned and usable.\n",
    "    Then we will analyze the relationship between the violations and traffic volume by plotting the a line graph where the traffic volume during a violation is on the x axis and the number of violations is on the y axis. Then we will perform a linear regression on the model and get the strength of the correlation. We will also want to split up the data by its location and time to see if the relationship is stronger during certain times of the day or of the year or at certain location in the city.\n",
    "\n",
    "*What to report (2-3 sentences)*\n",
    "\n",
    "    We will examine if the number of red light violation increases with increased traffic volume and the number of speeding violations decreases. We will report whether there is a relationship between traffic volume and the number of red light and speeding violations caught on camera. We will also include how strong this relationship is and how other factors such as time and location affect it. We will also include information about the other variables separately such as the relationship between time, location, and violations, as well as time, location, and traffic volume. \n",
    "\n",
    "Packages we plan to use:\n",
    "- a numpy\n",
    "- b pandas\n",
    "- c matplotlib\n",
    "- d basemap"
   ]
  },
  {
   "cell_type": "markdown",
   "metadata": {},
   "source": [
    "### Discussion\n",
    "\n",
    "What are the pitfalls and potential confounds of your data and/or methods? For example, how might biases in your data sources or analyses influence your interpretations? What will you do if you methods don't work and/or your hypotheses are wrong?\n",
    "\n",
    "(2-3 paragraphs)"
   ]
  },
  {
   "cell_type": "markdown",
   "metadata": {},
   "source": [
    "*Fill in your discussion information here*\n",
    "\n",
    "The analysis, the scope of the project, and the problem of interest depends entirely on the dataset quality we can get. the smaller the granularity of the data the better we can figure out what’s going on.\n",
    "\n",
    "It is difficult to understand some column label names. sometimes the label names require research in order to find out what they measure\n",
    "\n",
    "- How might biases in data sources influence interpretations? One of the major reasons that our results could have a bias is that we are looking at traffic violations caught by cameras, so there are significant ones not recorded by cameras we can not evaluate due to our source of data. Another reason could be failure to identify abnormal data if our data cleaning is poor. This could introduce outliers and make us see a relationship between variable when one does not exist. \n",
    "\n",
    "- What if our hypothesis is wrong? In the case that our hypothesis is wrong \\it means that this issue is counter intuitive and worth analyzing. People could be make incorrect assumptions about when the road is safer. If there is no relationship or an insignificant relationship between the variables it shows that people are adjust to different conditions appropriately.  \n",
    "\n",
    "- What if our methods don’t work? We should always be looking for methods that can be applied to our project. Learn while doing the project.\n"
   ]
  }
 ],
 "metadata": {
  "kernelspec": {
   "display_name": "Python 3",
   "language": "python",
   "name": "python3"
  },
  "language_info": {
   "codemirror_mode": {
    "name": "ipython",
    "version": 3
   },
   "file_extension": ".py",
   "mimetype": "text/x-python",
   "name": "python",
   "nbconvert_exporter": "python",
   "pygments_lexer": "ipython3",
   "version": "3.6.0"
  }
 },
 "nbformat": 4,
 "nbformat_minor": 2
}
